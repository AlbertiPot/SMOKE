{
 "cells": [
  {
   "cell_type": "markdown",
   "metadata": {},
   "source": [
    "# 编译DCNv2遇到的问题"
   ]
  },
  {
   "cell_type": "markdown",
   "metadata": {},
   "source": [
    "参考如下解决方案：ref：https://github.com/lzccccc/SMOKE/issues/56#issue-957855214\n",
    "\n",
    "到最新的dcnv2_latest 找合适的版本：https://github.com/jinfagang/DCNv2_latest\n",
    "\n",
    "将src文件里全部文件cp到csrc文件夹中\n",
    "\n",
    "如果编译出错，可能是版本不同，例如遇到 “fatal error: ATen/ceil_div.h: No such file or directory” 参考https://github.com/jinfagang/DCNv2_latest/issues/56#issuecomment-1156125189"
   ]
  }
 ],
 "metadata": {
  "language_info": {
   "name": "python"
  },
  "orig_nbformat": 4
 },
 "nbformat": 4,
 "nbformat_minor": 2
}
